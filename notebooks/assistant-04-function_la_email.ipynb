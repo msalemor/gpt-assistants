{
 "cells": [
  {
   "cell_type": "markdown",
   "metadata": {},
   "source": [
    "# Assistant-04<br/>Function calling\n",
    "\n",
    "## Trading Assistant with email functionality\n",
    "\n",
    "## Credits\n",
    "\n",
    "- https://mer.vin/2023/11/openai-assistants-api-function-calling/\n",
    "\n",
    "## Email functionality\n",
    "\n",
    "- Implemented using Logic Apps with an Http POST trigger\n",
    "\n",
    "### Get an OpenAI client and an Assistant\n",
    "\n",
    "**Note:** When configuring the OpenAI client, the API version, the model version, and endpoint are \"new\"."
   ]
  },
  {
   "cell_type": "code",
   "execution_count": 1,
   "metadata": {},
   "outputs": [],
   "source": [
    "import oaihelper as helper\n",
    "import yfinance as yf\n",
    "\n",
    "\n",
    "## Get an OpenAI client\n",
    "client = helper.get_openai_client(api_key=helper.api_KEY,\n",
    "        api_version=helper.api_version,\n",
    "        azure_endpoint=helper.api_URI,)"
   ]
  },
  {
   "cell_type": "markdown",
   "metadata": {},
   "source": [
    "### Get the latest stock price by ticker symbol using Yahoo Finance"
   ]
  },
  {
   "cell_type": "code",
   "execution_count": 2,
   "metadata": {},
   "outputs": [],
   "source": [
    "def get_stock_price(symbol: str) -> float:\n",
    "    stock = yf.Ticker(symbol)\n",
    "    price = stock.history(period=\"1d\")['Close'].iloc[-1]    \n",
    "    return price\n"
   ]
  },
  {
   "cell_type": "markdown",
   "metadata": {},
   "source": [
    "### Prepare the tool for function calling"
   ]
  },
  {
   "cell_type": "code",
   "execution_count": 3,
   "metadata": {},
   "outputs": [],
   "source": [
    "tools_list = [{\n",
    "    \"type\": \"function\",\n",
    "    \"function\": {\n",
    "\n",
    "        \"name\": \"get_stock_price\",\n",
    "        \"description\": \"Retrieve the latest closing price of a stock using its ticker symbol.\",\n",
    "        \"parameters\": {\n",
    "            \"type\": \"object\",\n",
    "            \"properties\": {\n",
    "                \"symbol\": {\n",
    "                    \"type\": \"string\",\n",
    "                    \"description\": \"The ticker symbol of the stock\"\n",
    "                }\n",
    "            },\n",
    "            \"required\": [\"symbol\"]\n",
    "        }\n",
    "    }\n",
    "},\n",
    "{\n",
    "    \"type\": \"function\",\n",
    "    \"function\": {\n",
    "\n",
    "        \"name\": \"send_email\",\n",
    "        \"description\": \"Sends an email to a recipient(s).\",\n",
    "        \"parameters\": {\n",
    "            \"type\": \"object\",\n",
    "            \"properties\": {\n",
    "                \"to\": {\n",
    "                    \"type\": \"string\",\n",
    "                    \"description\": \"The email(s) the email should be sent to.\"\n",
    "                },\n",
    "                \"content\": {\n",
    "                    \"type\": \"string\",\n",
    "                    \"description\": \"The content of the email.\"\n",
    "                }\n",
    "            },\n",
    "            \"required\": [\"to\", \"content\"]\n",
    "        }\n",
    "    }\n",
    "}]"
   ]
  },
  {
   "cell_type": "markdown",
   "metadata": {},
   "source": [
    "### Create the assistant"
   ]
  },
  {
   "cell_type": "code",
   "execution_count": 4,
   "metadata": {},
   "outputs": [
    {
     "name": "stdout",
     "output_type": "stream",
     "text": [
      "Added assistant:  asst_7FhimBlOMSQfZmyIectGnz5G 1\n"
     ]
    }
   ],
   "source": [
    "helper.clear_shelves()\n",
    "\n",
    "## Create an assistant\n",
    "stock_assistant = helper.create_assistant(client,\n",
    "                                                  name=\"fta-Securities Trading Assistant\",\n",
    "                                                  instructions=\"You are a personal securities trading assistant. Please be polite, professional, helpful, and friendly.\", \n",
    "                                                  tools=tools_list, \n",
    "                                                  model=helper.gpt_deployment_name)"
   ]
  },
  {
   "cell_type": "markdown",
   "metadata": {},
   "source": [
    "### Define the function calling delegate"
   ]
  },
  {
   "cell_type": "code",
   "execution_count": 5,
   "metadata": {},
   "outputs": [],
   "source": [
    "def function_calling_delegate(client, thread, run):\n",
    "    print(\"Function Calling\")\n",
    "    required_actions = run.required_action.submit_tool_outputs.model_dump()\n",
    "    print(required_actions)\n",
    "    tool_outputs = []\n",
    "    import json\n",
    "    for action in required_actions[\"tool_calls\"]:\n",
    "        func_name = action['function']['name']\n",
    "        arguments = json.loads(action['function']['arguments'])\n",
    "        \n",
    "        if func_name == \"get_stock_price\":\n",
    "            output = get_stock_price(symbol=arguments['symbol'])\n",
    "            tool_outputs.append({\n",
    "                \"tool_call_id\": action['id'],\n",
    "                \"output\": output\n",
    "            })\n",
    "        elif func_name == \"send_email\":\n",
    "            print(\"Sending email...\")\n",
    "            to = arguments['to']\n",
    "            content = arguments['content']\n",
    "            helper.send_email(to,content)\n",
    "            \n",
    "            tool_outputs.append({\n",
    "                \"tool_call_id\": action['id'],\n",
    "                \"output\": \"Email sent\"\n",
    "            })\n",
    "        else:\n",
    "            raise ValueError(f\"Unknown function: {func_name}\")\n",
    "        \n",
    "    print(\"Submitting outputs back to the Assistant...\")\n",
    "    client.beta.threads.runs.submit_tool_outputs(\n",
    "        thread_id=thread.id,\n",
    "        run_id=run.id,\n",
    "        tool_outputs=tool_outputs\n",
    "    )"
   ]
  },
  {
   "cell_type": "markdown",
   "metadata": {},
   "source": [
    "### Process the user message"
   ]
  },
  {
   "cell_type": "code",
   "execution_count": 6,
   "metadata": {},
   "outputs": [
    {
     "name": "stdout",
     "output_type": "stream",
     "text": [
      "Creating new thread for Alex with user_id 123\n",
      "Added thread:  thread_qxU51ZfnRdkJhHUbX4SD1Mbm 1\n",
      "Function Calling\n",
      "{'tool_calls': [{'id': 'call_RNm9Z7KrmsAzSAjuwkjK53Cv', 'function': {'arguments': '{\"symbol\": \"MSFT\"}', 'name': 'get_stock_price'}, 'type': 'function'}, {'id': 'call_6Kz6lVya7mGVTabDtHq3ycjB', 'function': {'arguments': '{\"symbol\": \"NVDA\"}', 'name': 'get_stock_price'}, 'type': 'function'}, {'id': 'call_KdFGu0OeO2qgO7QCJngnTtSS', 'function': {'arguments': '{\"symbol\": \"AAPL\"}', 'name': 'get_stock_price'}, 'type': 'function'}, {'id': 'call_u3YBuRDAmCKWPw4m7uIAyYXP', 'function': {'arguments': '{\"symbol\": \"NVO\"}', 'name': 'get_stock_price'}, 'type': 'function'}, {'id': 'call_YshzP60XbqM6pc1Q4uER65xY', 'function': {'arguments': '{\"symbol\": \"MELI\"}', 'name': 'get_stock_price'}, 'type': 'function'}, {'id': 'call_jNxI7io27QSJqms4ZUkvb7Ou', 'function': {'arguments': '{\"symbol\": \"TW\"}', 'name': 'get_stock_price'}, 'type': 'function'}, {'id': 'call_4QxIOOCETbG7tVwstzMkVR2f', 'function': {'arguments': '{\"symbol\": \"TSLA\"}', 'name': 'get_stock_price'}, 'type': 'function'}]}\n",
      "Submitting outputs back to the Assistant...\n",
      "Function Calling\n",
      "{'tool_calls': [{'id': 'call_Fr66oK55CU7FQECshlKKG272', 'function': {'arguments': '{\\n  \"to\": \"alemor@microsoft.com\",\\n  \"content\": \"<html>\\\\n<head></head>\\\\n<body>\\\\n<p>Dear Reader,</p>\\\\n\\\\n<p>Here is a summary of the article titled <strong>Tech Giants Microsoft and Nvidia Outshine Others in Recent Market Performance</strong>, as well as the closing stock prices for the companies mentioned as of today, <strong>January 16, 2024</strong>.</p>\\\\n\\\\n<p><strong>Summary:</strong></p>\\\\n<p>Microsoft (MSFT) and Nvidia (NVDA) are leading the tech industry with strong market performance. MSFT\\'s growth is attributed to its cloud services and resilience during the pandemic. NVDA has excelled due to its presence in gaming, AI, and its acquisition of Arm Holdings. Apple\\'s (AAPL) performance has been subdued due to supply chain issues but is supported by its services and products portfolio.</p>\\\\n\\\\n<p>Other companies like Novo Nordisk (NVO), MercadoLibre (MELI), Tradeweb Markets (TW), and Tesla (TSLA) have faced recent market difficulties. NVO has been affected by industry competition and pricing pressures. MELI deals with economic volatility in Latin America. TW\\'s trading volumes slowed due to market volatility. TSLA\\'s stock price has fluctuated amidst scrutiny over valuation and competition.</p>\\\\n\\\\n<p><strong>Closing Prices (January 16, 2024):</strong></p>\\\\n<ul>\\\\n  <li>Microsoft (MSFT): $389.70</li>\\\\n  <li>Nvidia (NVDA): $561.79</li>\\\\n  <li>Apple (AAPL): $183.20</li>\\\\n  <li>Novo Nordisk (NVO): $106.36</li>\\\\n  <li>MercadoLibre (MELI): $1664.47</li>\\\\n  <li>Tradeweb Markets (TW): $95.55</li>\\\\n  <li>Tesla (TSLA): $219.91</li>\\\\n</ul>\\\\n\\\\n<p>Best regards,</p>\\\\n<p>[Your Name]</p>\\\\n</body>\\\\n</html>\"\\n}', 'name': 'send_email'}, 'type': 'function'}]}\n",
      "Sending email...\n",
      "Email sent to: alemor@microsoft.com\n",
      "Submitting outputs back to the Assistant...\n",
      "Generated message: The email summarizing the article, including the closing stock prices of the companies mentioned, and the current date has been sent to alemor@microsoft.com successfully. If you need any further assistance, please let me know!\n",
      "To Alex: The email summarizing the article, including the closing stock prices of the companies mentioned, and the current date has been sent to alemor@microsoft.com successfully. If you need any further assistance, please let me know!\n"
     ]
    },
    {
     "data": {
      "text/plain": [
       "'The email summarizing the article, including the closing stock prices of the companies mentioned, and the current date has been sent to alemor@microsoft.com successfully. If you need any further assistance, please let me know!'"
      ]
     },
     "execution_count": 6,
     "metadata": {},
     "output_type": "execute_result"
    }
   ],
   "source": [
    "# Step 2: Create a Thread\n",
    "article = \"\"\"Title: Tech Giants Microsoft and Nvidia Outshine Others in Recent Market Performance\n",
    "\n",
    "New York, New York\n",
    "\n",
    "Introduction: In the ever-evolving world of technology, the performance of major companies often serves as a barometer for the industry's overall health. In recent times, two tech giants, Microsoft (MSFT) and Nvidia (NVDA), have stood out from the pack with their impressive market performance. However, other prominent tickers such as Apple (AAPL), Novo Nordisk (NVO), MercadoLibre (MELI), Tradeweb Markets (TW), and Tesla (TSLA) have struggled to keep pace. Let's delve into the details of their respective performances and explore the factors contributing to their divergent trajectories.\n",
    "\n",
    "Microsoft (MSFT): Microsoft, a global leader in software and cloud services, has been on a remarkable upward trajectory. The company's stock price has experienced consistent growth, driven by its strong financial performance and successful transition to a cloud-based business model. MSFT has demonstrated resilience during the COVID-19 pandemic, with increased demand for its cloud services and productivity tools. Additionally, Microsoft's strategic acquisitions and investments in emerging technologies have bolstered its position in the market.\n",
    "\n",
    "Nvidia (NVDA): Nvidia, renowned for its advanced graphics processing units (GPUs) and artificial intelligence (AI) technologies, has also been a standout performer. The company's stock price has soared, fueled by its dominance in the gaming industry and its expanding presence in AI and data centers. Nvidia's GPUs have become essential components in various sectors, including gaming, autonomous vehicles, and data centers, driving its revenue growth. Furthermore, the company's recent acquisition of Arm Holdings has positioned it for further expansion into the semiconductor market.\n",
    "\n",
    "Apple (AAPL): While Apple remains one of the most valuable companies globally, its recent performance has been relatively lackluster compared to Microsoft and Nvidia. The tech giant faced challenges due to the COVID-19 pandemic, which disrupted its supply chain and impacted iPhone sales. However, Apple's strong ecosystem, including its services segment and wearable devices, has helped mitigate some of the setbacks. The upcoming release of new products and the continued growth of its services division may provide a catalyst for Apple's future performance.\n",
    "\n",
    "Novo Nordisk (NVO), MercadoLibre (MELI), Tradeweb Markets (TW), and Tesla (TSLA): In contrast to Microsoft and Nvidia, Novo Nordisk, MercadoLibre, Tradeweb Markets, and Tesla have faced difficulties in recent market performance.\n",
    "\n",
    "Novo Nordisk, a leading pharmaceutical company specializing in diabetes care, has experienced challenges due to increased competition and pricing pressures in the industry. However, the company's strong pipeline of innovative products and its commitment to research and development may help it regain momentum.\n",
    "\n",
    "MercadoLibre, often referred to as the \"Amazon of Latin America,\" has faced headwinds due to economic uncertainties in the region. Despite being a dominant e-commerce player, the company's profitability has been impacted by increased investments in logistics and expansion into new markets. However, MercadoLibre's long-term growth prospects remain promising, given the region's growing digital economy.\n",
    "\n",
    "Tradeweb Markets, a global operator of electronic marketplaces for fixed-income and derivatives trading, has experienced a slowdown in trading volumes due to market volatility and reduced investor activity. However, the company's strong market position and ongoing digital transformation efforts may help it navigate these challenges.\n",
    "\n",
    "Tesla, the electric vehicle (EV) pioneer, has witnessed significant volatility in its stock price. While the company has achieved remarkable success in the EV market, concerns about valuation and competition have impacted its performance. Tesla's ability to ramp up production, expand its product lineup, and maintain its technological edge will be crucial for its future success.\n",
    "\n",
    "Conclusion: In the world of technology, market performance can vary significantly among major players. Microsoft and Nvidia have emerged as top performers, driven by their strong financials, strategic investments, and market dominance. On the other hand, Apple, Novo Nordisk, MercadoLibre, Tradeweb Markets, and Tesla have faced challenges that have impacted their recent performance. However, each company possesses unique strengths and growth opportunities that could potentially turn the tide in their favor. Investors and industry observers will closely monitor these companies as they navigate the ever-changing landscape of the tech industry.\"\"\"\n",
    "\n",
    "question = \"For the following article: \\n\\nArticle: \"\"\"\"\"\"\" + article + \"\\n\"\"\"\"\"\"\" + \"\\n\\nEmail a summary of the article in simple HTML format, include today's date, include a list of the closing prices of the stocks mentioned in the article to: alemor@microsoft.com.\" + \"Use only the provide text.\"\n",
    "\n",
    "helper.generate_response(client,stock_assistant,question, \"123\", \"Alex\", function_calling_delegate)"
   ]
  },
  {
   "cell_type": "markdown",
   "metadata": {},
   "source": [
    "### Delete all demo objects"
   ]
  },
  {
   "cell_type": "code",
   "execution_count": 7,
   "metadata": {},
   "outputs": [
    {
     "name": "stdout",
     "output_type": "stream",
     "text": [
      "Deleting:  1  assistants.\n",
      "AssistantDeleted(id='asst_7FhimBlOMSQfZmyIectGnz5G', deleted=True, object='assistant.deleted')\n",
      "Deleting:  1  threads.\n",
      "ThreadDeleted(id='thread_qxU51ZfnRdkJhHUbX4SD1Mbm', deleted=True, object='thread.deleted')\n",
      "Deleting:  0  files.\n"
     ]
    }
   ],
   "source": [
    "helper.cleanup(client)"
   ]
  }
 ],
 "metadata": {
  "kernelspec": {
   "display_name": "v31012",
   "language": "python",
   "name": "python3"
  },
  "language_info": {
   "codemirror_mode": {
    "name": "ipython",
    "version": 3
   },
   "file_extension": ".py",
   "mimetype": "text/x-python",
   "name": "python",
   "nbconvert_exporter": "python",
   "pygments_lexer": "ipython3",
   "version": "3.10.12"
  }
 },
 "nbformat": 4,
 "nbformat_minor": 2
}
