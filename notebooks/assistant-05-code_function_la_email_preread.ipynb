{
 "cells": [
  {
   "cell_type": "markdown",
   "metadata": {},
   "source": [
    "# Assistant-05<br/>Code Interpreter & Function calling\n",
    "\n",
    "## Trading Assistant that can calculate portfolio values and email a report with a provided portfolio\n",
    "\n",
    "## Credits\n",
    "\n",
    "- https://mer.vin/2023/11/openai-assistants-api-function-calling/\n",
    "\n",
    "## Email functionality\n",
    "\n",
    "- Implemented using Logic Apps with an Http POST trigger\n",
    "\n",
    "### Get an OpenAI client and an Assistant\n",
    "\n",
    "**Note:** When configuring the OpenAI client, the API version, the model version, and endpoint are \"new\"."
   ]
  },
  {
   "cell_type": "code",
   "execution_count": 9,
   "metadata": {},
   "outputs": [],
   "source": [
    "import time\n",
    "import oaihelper as helper\n",
    "import yfinance as yf\n",
    "\n",
    "\n",
    "## Get an OpenAI client\n",
    "client = helper.get_openai_client(api_key=helper.api_KEY,\n",
    "        api_version=helper.api_version,\n",
    "        azure_endpoint=helper.api_URI,)"
   ]
  },
  {
   "cell_type": "markdown",
   "metadata": {},
   "source": [
    "### Get the latest stock price by ticker symbol using Yahoo Finance"
   ]
  },
  {
   "cell_type": "code",
   "execution_count": 10,
   "metadata": {},
   "outputs": [],
   "source": [
    "def get_stock_price(symbol: str) -> float:\n",
    "    try:\n",
    "        stock = yf.Ticker(symbol)\n",
    "        price = stock.history(period=\"1d\")['Close'].iloc[-1]    \n",
    "        return price\n",
    "    except:\n",
    "        return 0"
   ]
  },
  {
   "cell_type": "markdown",
   "metadata": {},
   "source": [
    "### Prepare the tools for function calling"
   ]
  },
  {
   "cell_type": "code",
   "execution_count": 12,
   "metadata": {},
   "outputs": [],
   "source": [
    "tools_list = [\n",
    "{\"type\": \"code_interpreter\"},\n",
    "{\"type\": \"function\",\n",
    "    \"function\": {\n",
    "\n",
    "        \"name\": \"get_stock_price\",\n",
    "        \"description\": \"Retrieve the latest closing price of a stock using its ticker symbol.\",\n",
    "        \"parameters\": {\n",
    "            \"type\": \"object\",\n",
    "            \"properties\": {\n",
    "                \"symbol\": {\n",
    "                    \"type\": \"string\",\n",
    "                    \"description\": \"The ticker symbol of the stock\"\n",
    "                }\n",
    "            },\n",
    "            \"required\": [\"symbol\"]\n",
    "        }\n",
    "    }\n",
    "},\n",
    "{\n",
    "    \"type\": \"function\",\n",
    "    \"function\": {\n",
    "\n",
    "        \"name\": \"send_email\",\n",
    "        \"description\": \"Sends an email to a recipient(s).\",\n",
    "        \"parameters\": {\n",
    "            \"type\": \"object\",\n",
    "            \"properties\": {\n",
    "                \"to\": {\n",
    "                    \"type\": \"string\",\n",
    "                    \"description\": \"The email(s) the email should be sent to.\"\n",
    "                },\n",
    "                \"content\": {\n",
    "                    \"type\": \"string\",\n",
    "                    \"description\": \"The content of the email.\"\n",
    "                }\n",
    "            },\n",
    "            \"required\": [\"to\", \"content\"]\n",
    "        }\n",
    "    }\n",
    "}]"
   ]
  },
  {
   "cell_type": "markdown",
   "metadata": {},
   "source": [
    "### Create the assistant"
   ]
  },
  {
   "cell_type": "code",
   "execution_count": 13,
   "metadata": {},
   "outputs": [
    {
     "name": "stdout",
     "output_type": "stream",
     "text": [
      "Added assistant:  asst_jHOxgfwY4aYqPuimeGdmSPyz 2\n"
     ]
    }
   ],
   "source": [
    "helper.clear_shelves()\n",
    "\n",
    "## Create an assistant\n",
    "stock_assistant = helper.create_assistant(client,\n",
    "                                                  name=\"fta-Securities Trading Assistant\",\n",
    "                                                  instructions=\"You are a personal securities trading assistant. Please be polite, professional, helpful, and friendly.\", \n",
    "                                                  tools=tools_list,                                                  \n",
    "                                                  model=helper.gpt_deployment_name,\n",
    "                                                  )"
   ]
  },
  {
   "cell_type": "markdown",
   "metadata": {},
   "source": [
    "### Read a file and return the text contents"
   ]
  },
  {
   "cell_type": "code",
   "execution_count": 14,
   "metadata": {},
   "outputs": [],
   "source": [
    "# Read a file\n",
    "def read_text_file(file_path):\n",
    "    with open(file_path, 'r') as file:\n",
    "        content = file.read()\n",
    "    return content\n",
    "\n",
    "# Read the file contents\n",
    "portfolio = read_text_file(\"../data/fta-portfolio.csv\")"
   ]
  },
  {
   "cell_type": "markdown",
   "metadata": {},
   "source": [
    "### Create a thread, put a message on the thread, and view the initial status"
   ]
  },
  {
   "cell_type": "code",
   "execution_count": 15,
   "metadata": {},
   "outputs": [],
   "source": [
    "# Step 2: Create a Thread\n",
    "thread = client.beta.threads.create()\n",
    "\n",
    "# Step 3: Add a Message to a Thread\n",
    "message = client.beta.threads.messages.create(\n",
    "    thread_id=thread.id,\n",
    "    role=\"user\",\n",
    "    content=\"Based on the following portfolio:\\n\\n\"+portfolio+\"\\n\\nPlease email an HTML formatted report at alemor@microsoft.com with a details for each stock ticker based on the latest stock prices as a table, and list the best and worst performing stocks in my portfolio.\"\n",
    ")\n",
    "\n",
    "# Step 4: Run the Assistant\n",
    "run = client.beta.threads.runs.create(\n",
    "    thread_id=thread.id,\n",
    "    assistant_id=stock_assistant.id,\n",
    "    instructions=\"User is Alex Morales. Alex is a premium subscriber. Today's date and time is: \" + helper.get_localized_datetime() + \".\\n\\n\"\n",
    ")\n",
    "\n",
    "#print(run.model_dump_json(indent=4))"
   ]
  },
  {
   "cell_type": "markdown",
   "metadata": {},
   "source": [
    "### Process the message, function calling leveraging the latest stock prices, print the results and dispose of the objects"
   ]
  },
  {
   "cell_type": "code",
   "execution_count": 16,
   "metadata": {},
   "outputs": [
    {
     "name": "stdout",
     "output_type": "stream",
     "text": [
      "Waiting for the Assistant to process...\n",
      "Function Calling\n",
      "{'tool_calls': [{'id': 'call_vCPKHGwPx6fjoUwZZh8nAaAx', 'function': {'arguments': '{\"symbol\": \"AAPL\"}', 'name': 'get_stock_price'}, 'type': 'function'}, {'id': 'call_cbq9O79KngVO0iLKjapTcxDl', 'function': {'arguments': '{\"symbol\": \"MSFT\"}', 'name': 'get_stock_price'}, 'type': 'function'}, {'id': 'call_DTq6MEsLRYsb2kWdYQRHyMSj', 'function': {'arguments': '{\"symbol\": \"GOOGL\"}', 'name': 'get_stock_price'}, 'type': 'function'}, {'id': 'call_s6tjUUqdA1DQFDADJzugBtxc', 'function': {'arguments': '{\"symbol\": \"AMZN\"}', 'name': 'get_stock_price'}, 'type': 'function'}, {'id': 'call_YSrSDyEnHZENvp5IpnBd9zI6', 'function': {'arguments': '{\"symbol\": \"TSLA\"}', 'name': 'get_stock_price'}, 'type': 'function'}, {'id': 'call_gK2moZsCOhAiMNNRlPrzSYRc', 'function': {'arguments': '{\"symbol\": \"NFLX\"}', 'name': 'get_stock_price'}, 'type': 'function'}, {'id': 'call_EAINFbmlzCFZbM2jjsazvuRz', 'function': {'arguments': '{\"symbol\": \"NVDA\"}', 'name': 'get_stock_price'}, 'type': 'function'}]}\n",
      "Submitting outputs back to the Assistant...\n",
      "Waiting for the Assistant to process...\n",
      "Waiting for the Assistant to process...\n",
      "Waiting for the Assistant to process...\n",
      "Waiting for the Assistant to process...\n",
      "Waiting for the Assistant to process...\n",
      "Function Calling\n",
      "{'tool_calls': [{'id': 'call_MAbHP6RLz71lDpu6bO0gLYC7', 'function': {'arguments': '{\"to\":\"alemor@microsoft.com\",\"content\":\"<html><body><h2>Stock Portfolio Report</h2><p>Dear Alex,</p><p>Please find below the latest report of your stock portfolio:</p>{\\\\\"html_table\\\\\":\\\\\"<table border=\\\\\\\\\\\\\"1\\\\\\\\\\\\\"><tr><th>Ticker</th><th>QTY</th><th>Purchase Price</th><th>Cost</th><th>Latest Price</th><th>Current Value</th><th>Performance</th><th>Performance (%)</th></tr><tr><td>AAPL</td><td>250</td><td>$10</td><td>$2500</td><td>$185.92</td><td>$46480.00</td><td>$43980.00</td><td>1759.20%</td></tr><tr><td>MSFT</td><td>100</td><td>$200</td><td>$20000</td><td>$388.47</td><td>$38847.00</td><td>$18847.00</td><td>94.24%</td></tr><tr><td>GOOGL</td><td>75</td><td>$1200</td><td>$90000</td><td>$142.65</td><td>$10698.75</td><td>$-79301.25</td><td>-88.11%</td></tr><tr><td>AMZN</td><td>50</td><td>$1800</td><td>$90000</td><td>$154.62</td><td>$7731.00</td><td>$-82269.00</td><td>-91.41%</td></tr><tr><td>TSLA</td><td>500</td><td>$500</td><td>$250000</td><td>$218.89</td><td>$109445.00</td><td>$-140555.00</td><td>-56.22%</td></tr><tr><td>NFLX</td><td>80</td><td>$300</td><td>$24000</td><td>$492.16</td><td>$39372.80</td><td>$15372.80</td><td>64.05%</td></tr><tr><td>NVDA</td><td>120</td><td>$250</td><td>$30000</td><td>$547.10</td><td>$65652.00</td><td>$35652.00</td><td>118.84%</td></tr></table>\\\\\"}<p>The <strong>best performing stock</strong> in your portfolio is <strong>AAPL</strong> with a performance of <strong>1759.20%</strong>.</p><p>The <strong>worst performing stock</strong> in your portfolio is <strong>AMZN</strong> with a performance of <strong>-91.41%</strong>.</p><p>If you have any questions or need further assistance, please let me know.</p><p>Best regards,</p></body></html>\"}', 'name': 'send_email'}, 'type': 'function'}]}\n",
      "Sending email...\n",
      "Email sent to: alemor@microsoft.com\n",
      "Submitting outputs back to the Assistant...\n",
      "Assistant: The email with the HTML formatted report detailing the latest stock prices, performance of each stock, and the best and worst performing stocks in your portfolio has been sent to alemor@microsoft.com.\n",
      "User: Based on the following portfolio:\n",
      "\n",
      "Ticker,QTY,Purchase,Cost\n",
      "AAPL,250,10,2500\n",
      "MSFT,100,200,20000\n",
      "GOOGL,75,1200,90000\n",
      "AMZN,50,1800,90000\n",
      "TSLA,500,500,250000\n",
      "NFLX,80,300,24000\n",
      "NVDA,120,250,30000\n",
      "\n",
      "Please email an HTML formatted report at alemor@microsoft.com with a details for each stock ticker based on the latest stock prices as a table, and list the best and worst performing stocks in my portfolio.\n",
      "ThreadDeleted(id='thread_WW4jiQY1huIA2U10tAAdoUrL', deleted=True, object='thread.deleted')\n",
      "AssistantDeleted(id='asst_jHOxgfwY4aYqPuimeGdmSPyz', deleted=True, object='assistant.deleted')\n"
     ]
    }
   ],
   "source": [
    "while True:\n",
    "    # Wait for 1 seconds\n",
    "    time.sleep(5)\n",
    "\n",
    "    # Retrieve the run status\n",
    "    run_status = client.beta.threads.runs.retrieve(\n",
    "        thread_id=thread.id,\n",
    "        run_id=run.id\n",
    "    )\n",
    "    #print(run_status.model_dump_json(indent=4))\n",
    "\n",
    "    # If run is completed, get messages\n",
    "    if run_status.status == 'completed':\n",
    "        messages = client.beta.threads.messages.list(\n",
    "            thread_id=thread.id\n",
    "        )\n",
    "\n",
    "        # Loop through messages and print content based on role\n",
    "        for msg in messages.data:\n",
    "            role = msg.role\n",
    "            content = msg.content[0].text.value\n",
    "            print(f\"{role.capitalize()}: {content}\")\n",
    "\n",
    "        ## Cleanup\n",
    "        print(client.beta.threads.delete(thread.id))\n",
    "        print(client.beta.assistants.delete(stock_assistant.id))\n",
    "\n",
    "        break\n",
    "    elif run_status.status == 'requires_action':\n",
    "        print(\"Function Calling\")\n",
    "        required_actions = run_status.required_action.submit_tool_outputs.model_dump()\n",
    "        print(required_actions)\n",
    "        tool_outputs = []\n",
    "        import json\n",
    "        for action in required_actions[\"tool_calls\"]:\n",
    "            func_name = action['function']['name']\n",
    "            arguments = json.loads(action['function']['arguments'])\n",
    "            \n",
    "            if func_name == \"get_stock_price\":\n",
    "                output = get_stock_price(symbol=arguments['symbol'])\n",
    "                tool_outputs.append({\n",
    "                    \"tool_call_id\": action['id'],\n",
    "                    \"output\": output\n",
    "                })\n",
    "            elif func_name == \"send_email\":\n",
    "                print(\"Sending email...\")\n",
    "                email_to = arguments['to']\n",
    "                email_content = arguments['content']\n",
    "                helper.send_email(email_to,email_content)\n",
    "                \n",
    "                tool_outputs.append({\n",
    "                    \"tool_call_id\": action['id'],\n",
    "                    \"output\": \"Email sent\"\n",
    "                })\n",
    "            else:\n",
    "                raise ValueError(f\"Unknown function: {func_name}\")\n",
    "            \n",
    "        print(\"Submitting outputs back to the Assistant...\")\n",
    "        client.beta.threads.runs.submit_tool_outputs(\n",
    "            thread_id=thread.id,\n",
    "            run_id=run.id,\n",
    "            tool_outputs=tool_outputs\n",
    "        )\n",
    "    else:\n",
    "        print(\"Waiting for the Assistant to process...\")\n",
    "        time.sleep(5)"
   ]
  }
 ],
 "metadata": {
  "kernelspec": {
   "display_name": "v31012",
   "language": "python",
   "name": "python3"
  },
  "language_info": {
   "codemirror_mode": {
    "name": "ipython",
    "version": 3
   },
   "file_extension": ".py",
   "mimetype": "text/x-python",
   "name": "python",
   "nbconvert_exporter": "python",
   "pygments_lexer": "ipython3",
   "version": "3.10.12"
  }
 },
 "nbformat": 4,
 "nbformat_minor": 2
}
