{
 "cells": [
  {
   "cell_type": "markdown",
   "metadata": {},
   "source": [
    "# Assistant-01<br/>The OpenAI reference demo\n",
    "\n",
    "Reference:\n",
    "\n",
    "- [Assistants OpenAI Overview](https://platform.openai.com/docs/assistants/overview)\n",
    "- [Github-OpenAI Python/examples/Assistant demo notebook](https://github.com/openai/openai-python/blob/main/examples/assistant.py)\n",
    "\n",
    "\n",
    "### Get an OpenAI client\n",
    "\n",
    "**Note:** When configuring the OpenAI client, the API version, the model version, and endpoint are \"new\"."
   ]
  },
  {
   "cell_type": "code",
   "execution_count": 1,
   "metadata": {},
   "outputs": [],
   "source": [
    "import time\n",
    "import oaihelper as helper\n",
    "\n",
    "## Get an OpenAI client\n",
    "client = helper.get_openai_client(api_key=helper.api_KEY,\n",
    "        api_version=helper.api_version,\n",
    "        azure_endpoint=helper.api_URI,)"
   ]
  },
  {
   "cell_type": "markdown",
   "metadata": {},
   "source": [
    "### Create an assistant"
   ]
  },
  {
   "cell_type": "code",
   "execution_count": 2,
   "metadata": {},
   "outputs": [
    {
     "data": {
      "text/plain": [
       "Assistant(id='asst_nZP1Me7pypD9Q1t5orLMTDqb', created_at=1705510118, description=None, file_ids=[], instructions='You are a personal math tutor. Write and run code to answer math questions.', metadata={}, model='gpt4-1106-fta-assistants', name='Math Tutor', object='assistant', tools=[ToolCodeInterpreter(type='code_interpreter')])"
      ]
     },
     "execution_count": 2,
     "metadata": {},
     "output_type": "execute_result"
    }
   ],
   "source": [
    "assistant = client.beta.assistants.create(\n",
    "    name=\"Math Tutor\",\n",
    "    instructions=\"You are a personal math tutor. Write and run code to answer math questions.\",\n",
    "    tools=[{\"type\": \"code_interpreter\"}],\n",
    "    model=helper.gpt_deployment_name\n",
    ")\n",
    "assistant"
   ]
  },
  {
   "cell_type": "markdown",
   "metadata": {},
   "source": [
    "### Create an assistant thread"
   ]
  },
  {
   "cell_type": "code",
   "execution_count": 3,
   "metadata": {},
   "outputs": [
    {
     "data": {
      "text/plain": [
       "Thread(id='thread_P3rT3ZlKo5cqbwlaXWtkICx0', created_at=1705510121, metadata={}, object='thread')"
      ]
     },
     "execution_count": 3,
     "metadata": {},
     "output_type": "execute_result"
    }
   ],
   "source": [
    "thread = client.beta.threads.create()\n",
    "thread"
   ]
  },
  {
   "cell_type": "markdown",
   "metadata": {},
   "source": [
    "### Create a user message in the assistant thread"
   ]
  },
  {
   "cell_type": "code",
   "execution_count": 4,
   "metadata": {},
   "outputs": [
    {
     "data": {
      "text/plain": [
       "ThreadMessage(id='msg_XkhhqMGwcm2pSrnN4vn1Akn8', assistant_id=None, content=[MessageContentText(text=Text(annotations=[], value='I need to solve the equation `3x + 11 = 14`. Can you help me?'), type='text')], created_at=1705510130, file_ids=[], metadata={}, object='thread.message', role='user', run_id=None, thread_id='thread_P3rT3ZlKo5cqbwlaXWtkICx0')"
      ]
     },
     "execution_count": 4,
     "metadata": {},
     "output_type": "execute_result"
    }
   ],
   "source": [
    "message = client.beta.threads.messages.create(\n",
    "    thread_id=thread.id,\n",
    "    role=\"user\",\n",
    "    content=\"I need to solve the equation `3x + 11 = 14`. Can you help me?\"    \n",
    ")\n",
    "message"
   ]
  },
  {
   "cell_type": "markdown",
   "metadata": {},
   "source": [
    "## Run the assistant in the assistant thread"
   ]
  },
  {
   "cell_type": "code",
   "execution_count": 5,
   "metadata": {},
   "outputs": [
    {
     "data": {
      "text/plain": [
       "Run(id='run_nOpMdUzzQZDYvxll4OPAm3aJ', assistant_id='asst_nZP1Me7pypD9Q1t5orLMTDqb', cancelled_at=None, completed_at=None, created_at=1705510134, expires_at=1705510734, failed_at=None, file_ids=[], instructions='Please address the user as Jane Doe. The user has a premium account.', last_error=None, metadata={}, model='gpt4-1106-fta-assistants', object='thread.run', required_action=None, started_at=None, status='queued', thread_id='thread_P3rT3ZlKo5cqbwlaXWtkICx0', tools=[ToolAssistantToolsCode(type='code_interpreter')])"
      ]
     },
     "execution_count": 5,
     "metadata": {},
     "output_type": "execute_result"
    }
   ],
   "source": [
    "run = client.beta.threads.runs.create(\n",
    "  thread_id=thread.id,\n",
    "  assistant_id=assistant.id,\n",
    "  instructions=\"Please address the user as Jane Doe. The user has a premium account.\"\n",
    ")\n",
    "run"
   ]
  },
  {
   "cell_type": "markdown",
   "metadata": {},
   "source": [
    "### Wait until the run is completed"
   ]
  },
  {
   "cell_type": "code",
   "execution_count": 6,
   "metadata": {},
   "outputs": [
    {
     "name": "stdout",
     "output_type": "stream",
     "text": [
      "checking assistant status. \n",
      "messages: \n",
      "{'role': 'assistant', 'message': 'Of course, Jane Doe! To solve the equation `3x + 11 = 14`, we need to find the value of x that makes this equation true.\\n\\nThe steps to solve this equation are as follows:\\n\\n1. Subtract 11 from both sides of the equation to isolate the term with x on one side:\\n\\\\[ 3x + 11 - 11 = 14 - 11 \\\\]\\n\\n2. Simplify both sides:\\n\\\\[ 3x = 3 \\\\]\\n\\n3. Divide both sides by 3 to solve for x:\\n\\\\[ \\\\frac{3x}{3} = \\\\frac{3}{3} \\\\]\\n\\n4. The solution is:\\n\\\\[ x = 1 \\\\]\\n\\nSo, the value of x that satisfies the equation is 1. Would you like me to perform this calculation explicitly using Python?'}\n",
      "{'role': 'user', 'message': 'I need to solve the equation `3x + 11 = 14`. Can you help me?'}\n"
     ]
    }
   ],
   "source": [
    "print(\"checking assistant status. \")\n",
    "while True:\n",
    "    run = client.beta.threads.runs.retrieve(thread_id=thread.id, run_id=run.id)\n",
    "\n",
    "    if run.status == \"completed\":\n",
    "        messages = client.beta.threads.messages.list(thread_id=thread.id)\n",
    "\n",
    "        print(\"messages: \")\n",
    "        for message in messages:\n",
    "            assert message.content[0].type == \"text\"\n",
    "            print({\"role\": message.role, \"message\": message.content[0].text.value})\n",
    "\n",
    "        break\n",
    "    else:\n",
    "        print(\"in progress...\")\n",
    "        time.sleep(5)"
   ]
  },
  {
   "cell_type": "markdown",
   "metadata": {},
   "source": [
    "### List all running assistants in the model"
   ]
  },
  {
   "cell_type": "code",
   "execution_count": 7,
   "metadata": {},
   "outputs": [
    {
     "name": "stdout",
     "output_type": "stream",
     "text": [
      "Assistant(id='asst_nZP1Me7pypD9Q1t5orLMTDqb', created_at=1705510118, description=None, file_ids=[], instructions='You are a personal math tutor. Write and run code to answer math questions.', metadata={}, model='gpt4-1106-fta-assistants', name='Math Tutor', object='assistant', tools=[ToolCodeInterpreter(type='code_interpreter')])\n",
      "Assistant(id='asst_TmNrLwSemy0F3kuf0NxPrnUz', created_at=1705433552, description=None, file_ids=[], instructions='You are a personal securities trading assistant. Please be polite, professional, helpful, and friendly.', metadata={}, model='gpt4-1106-fta-assistants', name='fta-Securities Trading Assistant', object='assistant', tools=[ToolFunction(function=FunctionDefinition(name='get_stock_price', description='Retrieve the latest closing price of a stock using its ticker symbol.', parameters={'type': 'object', 'properties': {'symbol': {'type': 'string', 'description': 'The ticker symbol of the stock'}}, 'required': ['symbol']}), type='function'), ToolFunction(function=FunctionDefinition(name='send_email', description='Sends an email to a recipient(s).', parameters={'type': 'object', 'properties': {'to': {'type': 'string', 'description': 'The email(s) the email should be sent to.'}, 'content': {'type': 'string', 'description': 'The content of the email.'}}, 'required': ['to', 'content']}), type='function')])\n"
     ]
    }
   ],
   "source": [
    "# List the registered assistants\n",
    "assistants = client.beta.assistants.list()\n",
    "count = 0\n",
    "for assistant in assistants.data:\n",
    "    print(assistant)\n",
    "    count += 1\n",
    "    if count ==2:\n",
    "        break\n",
    "\n",
    "# TODO: Do the assistants in the model and the threads, that have are not not disposed\n",
    "# have a time limit or does there have to be a cleanup?\n"
   ]
  },
  {
   "cell_type": "markdown",
   "metadata": {},
   "source": [
    "### Cleanup: clean the assistant and the thread thread"
   ]
  },
  {
   "cell_type": "code",
   "execution_count": 8,
   "metadata": {},
   "outputs": [
    {
     "name": "stdout",
     "output_type": "stream",
     "text": [
      "AssistantDeleted(id='asst_TmNrLwSemy0F3kuf0NxPrnUz', deleted=True, object='assistant.deleted')\n",
      "ThreadDeleted(id='thread_P3rT3ZlKo5cqbwlaXWtkICx0', deleted=True, object='thread.deleted')\n"
     ]
    }
   ],
   "source": [
    "# TODO: Should the assistant live for the life of the application?\n",
    "print(client.beta.assistants.delete(assistant.id))\n",
    "\n",
    "# TODO: Should the thread live for the life of the execution?\n",
    "print(client.beta.threads.delete(thread.id))"
   ]
  }
 ],
 "metadata": {
  "kernelspec": {
   "display_name": "v31012",
   "language": "python",
   "name": "python3"
  },
  "language_info": {
   "codemirror_mode": {
    "name": "ipython",
    "version": 3
   },
   "file_extension": ".py",
   "mimetype": "text/x-python",
   "name": "python",
   "nbconvert_exporter": "python",
   "pygments_lexer": "ipython3",
   "version": "3.10.12"
  }
 },
 "nbformat": 4,
 "nbformat_minor": 2
}
