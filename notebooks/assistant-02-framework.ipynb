{
 "cells": [
  {
   "cell_type": "markdown",
   "metadata": {},
   "source": [
    "# Assistant-02<br/>Assistant Helper\n",
    "\n",
    "This notebook showcases a foundational helper code to work with Assistants.\n",
    "\n",
    "### Get an OpenAI client and an Assistant\n",
    "\n",
    "**Note:** When configuring the OpenAI client, the API version, the model version, and endpoint are \"new\"."
   ]
  },
  {
   "cell_type": "code",
   "execution_count": 1,
   "metadata": {},
   "outputs": [],
   "source": [
    "import oaihelper as helper\n",
    "\n",
    "## Get an OpenAI client\n",
    "client = helper.get_openai_client(api_key=helper.api_KEY,\n",
    "        api_version=helper.api_version,\n",
    "        azure_endpoint=helper.api_URI,)"
   ]
  },
  {
   "cell_type": "markdown",
   "metadata": {},
   "source": [
    "### Create an assistant with the code interpreter tool"
   ]
  },
  {
   "cell_type": "code",
   "execution_count": 2,
   "metadata": {},
   "outputs": [
    {
     "name": "stdout",
     "output_type": "stream",
     "text": [
      "Added assistant:  asst_9RZRWmaFQPmXEsAdAjNHSBxo 1\n"
     ]
    }
   ],
   "source": [
    "## Clear the shelves\n",
    "helper.clear_shelves()\n",
    "\n",
    "## Create an assistant\n",
    "math_tutor_assistant = helper.create_assistant(client,\n",
    "                                                  name=\"fta-Math Tutor\",\n",
    "                                                  instructions=\"You are a personal math tutor. Write and run code to answer math questions.\", \n",
    "                                                  tools=[{\"type\": \"code_interpreter\"}], \n",
    "                                                  model=helper.gpt_deployment_name)"
   ]
  },
  {
   "cell_type": "markdown",
   "metadata": {},
   "source": [
    "### Call messages for different users, create a new thread if one does not exists, and reuse a thread if one exists.\n",
    "\n",
    "Here threads can be recalled based on a user_id. The system will create a new thread if it does not exist or reuse and existing one."
   ]
  },
  {
   "cell_type": "code",
   "execution_count": 3,
   "metadata": {},
   "outputs": [
    {
     "name": "stdout",
     "output_type": "stream",
     "text": [
      "Creating new thread for John with user_id 123\n",
      "Added thread:  thread_z9RvfbUdKCwNGOppypc7Tw60 1\n",
      "User John: What's 2+2\n",
      "Assistant:\n",
      "The result of 2+2 is 4.\n",
      "\n",
      "\n",
      "Creating new thread for Sarah with user_id 456\n",
      "Added thread:  thread_Xd95i62GAXhGcZzQGte8WXD4 2\n",
      "User Sarah: What's x*x?\n",
      "Assistant:\n",
      "To calculate \\( x \\times x \\), I need the value of \\( x \\). Please provide me with the value of \\( x \\) so I can proceed with the calculation.\n",
      "\n",
      "\n",
      "Retrieving existing thread for John with user_id 123\n",
      "User John: What the value of x, for x=m*y+5, if y=2 and m=-10?\n",
      "Assistant:\n",
      "The value of x is -15, given that \\( y = 2 \\) and \\( m = -10 \\) in the equation \\( x = m \\cdot y + 5 \\).\n",
      "\n",
      "\n",
      "Retrieving existing thread for Sarah with user_id 456\n",
      "User Sarah: What is the value of y, for y=x*x?, if x=2?\n",
      "Assistant:\n",
      "The value of \\( y \\) for \\( y = x \\times x \\) is \\( 4 \\), given that \\( x = 2 \\).\n",
      "\n",
      "\n"
     ]
    },
    {
     "data": {
      "text/plain": [
       "('What is the value of y, for y=x*x?, if x=2?',\n",
       " 'The value of \\\\( y \\\\) for \\\\( y = x \\\\times x \\\\) is \\\\( 4 \\\\), given that \\\\( x = 2 \\\\).')"
      ]
     },
     "execution_count": 3,
     "metadata": {},
     "output_type": "execute_result"
    }
   ],
   "source": [
    "helper.generate_response(client,math_tutor_assistant,\"What's 2+2\", \"123\", \"John\")\n",
    "\n",
    "helper.generate_response(client,math_tutor_assistant,\"What's x*x?\", \"456\", \"Sarah\")\n",
    "\n",
    "helper.generate_response(client,math_tutor_assistant,\"What the value of x, for x=m*y+5, if y=2 and m=-10?\", \"123\", \"John\")\n",
    "\n",
    "helper.generate_response(client,math_tutor_assistant,\"What is the value of y, for y=x*x?, if x=2?\", \"456\", \"Sarah\")"
   ]
  },
  {
   "cell_type": "markdown",
   "metadata": {},
   "source": [
    "### Create another assistant without tools"
   ]
  },
  {
   "cell_type": "code",
   "execution_count": 4,
   "metadata": {},
   "outputs": [
    {
     "name": "stdout",
     "output_type": "stream",
     "text": [
      "Added assistant:  asst_mnvRKKFf7lcZyEeXhSQTOPyW 2\n"
     ]
    }
   ],
   "source": [
    "golang_tutor_assistant = helper.create_assistant(client,name=\"Golang\",instructions=\"You are an assistant that can help write and explain Go code.\", model=helper.gpt_deployment_name)"
   ]
  },
  {
   "cell_type": "markdown",
   "metadata": {},
   "source": [
    "### Get the messages for a new user"
   ]
  },
  {
   "cell_type": "code",
   "execution_count": 5,
   "metadata": {},
   "outputs": [
    {
     "name": "stdout",
     "output_type": "stream",
     "text": [
      "Creating new thread for Victor with user_id 789\n",
      "Added thread:  thread_YBfBfoWgDgTffqi9NliOVR3M 3\n",
      "User Victor: Write a Go application to find the 1001st prime number.\n",
      "Assistant:\n",
      "Certainly! Below is a simple Go program that finds the 1001st prime number by checking each number for primality starting from 2 and continuing until we've found 1001 primes.\n",
      "\n",
      "```go\n",
      "package main\n",
      "\n",
      "import (\n",
      "\t\"fmt\"\n",
      ")\n",
      "\n",
      "func isPrime(number int) bool {\n",
      "\t// Handle edge cases\n",
      "\tif number <= 1 {\n",
      "\t\treturn false\n",
      "\t}\n",
      "\tif number == 2 {\n",
      "\t\treturn true\n",
      "\t}\n",
      "\tif number%2 == 0 {\n",
      "\t\treturn false\n",
      "\t}\n",
      "\n",
      "\t// Check for factors up to the square root of the number\n",
      "\tfor i := 3; i*i <= number; i += 2 {\n",
      "\t\tif number%i == 0 {\n",
      "\t\t\treturn false\n",
      "\t\t}\n",
      "\t}\n",
      "\n",
      "\treturn true\n",
      "}\n",
      "\n",
      "func findNthPrime(n int) int {\n",
      "\tcount := 0\n",
      "\tnumber := 1\n",
      "\n",
      "\t// Keep generating numbers until we find the nth prime\n",
      "\tfor count < n {\n",
      "\t\tnumber++\n",
      "\t\tif isPrime(number) {\n",
      "\t\t\tcount++\n",
      "\t\t}\n",
      "\t}\n",
      "\n",
      "\treturn number\n",
      "}\n",
      "\n",
      "func main() {\n",
      "\tnumber := findNthPrime(1001)\n",
      "\tfmt.Printf(\"The 1001st prime number is: %d\\n\", number)\n",
      "}\n",
      "```\n",
      "\n",
      "Here's how to run this program:\n",
      "1. Save the code to a file named `prime_finder.go`.\n",
      "2. Open the terminal and navigate to the directory containing the file.\n",
      "3. Run the command `go run prime_finder.go` to compile and execute the program.\n",
      "\n",
      "This program defines two functions: `isPrime`, which checks if a given number is prime, and `findNthPrime`, which finds the nth prime number using the `isPrime` function. The `main` function then finds the 1001st prime and prints it to the console.\n",
      "\n",
      "\n"
     ]
    },
    {
     "data": {
      "text/plain": [
       "('Write a Go application to find the 1001st prime number.',\n",
       " 'Certainly! Below is a simple Go program that finds the 1001st prime number by checking each number for primality starting from 2 and continuing until we\\'ve found 1001 primes.\\n\\n```go\\npackage main\\n\\nimport (\\n\\t\"fmt\"\\n)\\n\\nfunc isPrime(number int) bool {\\n\\t// Handle edge cases\\n\\tif number <= 1 {\\n\\t\\treturn false\\n\\t}\\n\\tif number == 2 {\\n\\t\\treturn true\\n\\t}\\n\\tif number%2 == 0 {\\n\\t\\treturn false\\n\\t}\\n\\n\\t// Check for factors up to the square root of the number\\n\\tfor i := 3; i*i <= number; i += 2 {\\n\\t\\tif number%i == 0 {\\n\\t\\t\\treturn false\\n\\t\\t}\\n\\t}\\n\\n\\treturn true\\n}\\n\\nfunc findNthPrime(n int) int {\\n\\tcount := 0\\n\\tnumber := 1\\n\\n\\t// Keep generating numbers until we find the nth prime\\n\\tfor count < n {\\n\\t\\tnumber++\\n\\t\\tif isPrime(number) {\\n\\t\\t\\tcount++\\n\\t\\t}\\n\\t}\\n\\n\\treturn number\\n}\\n\\nfunc main() {\\n\\tnumber := findNthPrime(1001)\\n\\tfmt.Printf(\"The 1001st prime number is: %d\\\\n\", number)\\n}\\n```\\n\\nHere\\'s how to run this program:\\n1. Save the code to a file named `prime_finder.go`.\\n2. Open the terminal and navigate to the directory containing the file.\\n3. Run the command `go run prime_finder.go` to compile and execute the program.\\n\\nThis program defines two functions: `isPrime`, which checks if a given number is prime, and `findNthPrime`, which finds the nth prime number using the `isPrime` function. The `main` function then finds the 1001st prime and prints it to the console.')"
      ]
     },
     "execution_count": 5,
     "metadata": {},
     "output_type": "execute_result"
    }
   ],
   "source": [
    "helper.generate_response(client,golang_tutor_assistant,\"Write a Go application to find the 1001st prime number.\", \"789\", \"Victor\")"
   ]
  },
  {
   "cell_type": "markdown",
   "metadata": {},
   "source": [
    "### Cleanup\n",
    "\n",
    "The framework keeps a list of instantiated assistants, clients, and files"
   ]
  },
  {
   "cell_type": "code",
   "execution_count": 6,
   "metadata": {},
   "outputs": [
    {
     "name": "stdout",
     "output_type": "stream",
     "text": [
      "Deleting:  2  assistants.\n",
      "AssistantDeleted(id='asst_9RZRWmaFQPmXEsAdAjNHSBxo', deleted=True, object='assistant.deleted')\n",
      "AssistantDeleted(id='asst_mnvRKKFf7lcZyEeXhSQTOPyW', deleted=True, object='assistant.deleted')\n",
      "Deleting:  3  threads.\n",
      "ThreadDeleted(id='thread_z9RvfbUdKCwNGOppypc7Tw60', deleted=True, object='thread.deleted')\n",
      "ThreadDeleted(id='thread_Xd95i62GAXhGcZzQGte8WXD4', deleted=True, object='thread.deleted')\n",
      "ThreadDeleted(id='thread_YBfBfoWgDgTffqi9NliOVR3M', deleted=True, object='thread.deleted')\n",
      "Deleting:  0  files.\n"
     ]
    }
   ],
   "source": [
    "#assert framework.ai_assistants == 2\n",
    "#assert framework.ai_threads==3\n",
    "\n",
    "helper.cleanup(client)"
   ]
  }
 ],
 "metadata": {
  "kernelspec": {
   "display_name": "v31012",
   "language": "python",
   "name": "python3"
  },
  "language_info": {
   "codemirror_mode": {
    "name": "ipython",
    "version": 3
   },
   "file_extension": ".py",
   "mimetype": "text/x-python",
   "name": "python",
   "nbconvert_exporter": "python",
   "pygments_lexer": "ipython3",
   "version": "3.10.12"
  }
 },
 "nbformat": 4,
 "nbformat_minor": 2
}
