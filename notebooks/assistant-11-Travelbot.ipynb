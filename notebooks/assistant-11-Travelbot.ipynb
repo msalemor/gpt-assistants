{
 "cells": [
  {
   "cell_type": "markdown",
   "metadata": {},
   "source": [
    "# Assistant-11<br/>Travel Assistant\n",
    "\n",
    "### Get an OpenAI client\n",
    "\n",
    "**Note:** When configuring the OpenAI client, the API version, the model version, and endpoint are \"new\"."
   ]
  },
  {
   "cell_type": "code",
   "execution_count": 1,
   "metadata": {},
   "outputs": [],
   "source": [
    "import oaihelper as helper\n",
    "\n",
    "## Get an OpenAI client\n",
    "client = helper.get_openai_client(api_key=helper.api_KEY,\n",
    "        api_version=helper.api_version,\n",
    "        azure_endpoint=helper.api_URI,)"
   ]
  },
  {
   "cell_type": "markdown",
   "metadata": {},
   "source": [
    "### Load the files"
   ]
  },
  {
   "cell_type": "code",
   "execution_count": 2,
   "metadata": {},
   "outputs": [
    {
     "name": "stdout",
     "output_type": "stream",
     "text": [
      "Added file:  assistant-Ul4pGaRffB4FuyrV6d7xolrs 1\n",
      "Added file:  assistant-DZqLaXltOgKsYpCedixnfbIO 2\n"
     ]
    }
   ],
   "source": [
    "## Files\n",
    "file_itinerary = helper.upload_file(client,\"../data/travel/flight_itinerary.txt\")\n",
    "file_bills = helper.upload_file(client,\"../data/travel/airbnb_bills.csv\")\n",
    "#file_trains = helper.upload_file(client,\"../data/train_ids.csv\")\n",
    "#file_stations = helper.upload_file(client,\"../data/stations.csv\")"
   ]
  },
  {
   "cell_type": "markdown",
   "metadata": {},
   "source": [
    "### Define the tools to use in the Assistants"
   ]
  },
  {
   "cell_type": "code",
   "execution_count": 4,
   "metadata": {},
   "outputs": [],
   "source": [
    "tools_list = [\n",
    "    {\"type\":\"retrieval\"},    \n",
    "    {\"type\":\"code_interpreter\"},\n",
    "    {\n",
    "        \"type\": \"function\",\n",
    "        \"function\": {\n",
    "            \"name\": \"block_calendar\",\n",
    "            \"description\": \"Sends a calendar event.\",\n",
    "            \"parameters\": {\n",
    "                \"type\": \"object\",\n",
    "                \"properties\": {\n",
    "                    \"eventSubject\": {\n",
    "                        \"type\": \"string\",\n",
    "                        \"description\": \"Event subject.\"\n",
    "                    },\n",
    "                    \"eventContent\": {\n",
    "                        \"type\": \"string\",\n",
    "                        \"description\": \"Event content.\"\n",
    "                    },\n",
    "                    \"startTime\": {\n",
    "                        \"type\": \"string\",\n",
    "                        \"description\": \"Event start time and date.\"\n",
    "                    },\n",
    "                    \"endTime\": {\n",
    "                        \"type\": \"string\",\n",
    "                        \"description\": \"Event end time and date.\"\n",
    "                    },\n",
    "                    \"isAllDay\": {\n",
    "                        \"type\": \"boolean\",\n",
    "                        \"description\": \"Is the event all day.\"\n",
    "                    }\n",
    "                },\n",
    "                \"required\": [\"eventSubject\", \"eventContent\",\"startTime\",\"endTime\",\"isAllDay\"]\n",
    "            }\n",
    "        }\n",
    "    }\n",
    "]"
   ]
  },
  {
   "cell_type": "markdown",
   "metadata": {},
   "source": [
    "### Define the Assistant"
   ]
  },
  {
   "cell_type": "code",
   "execution_count": 5,
   "metadata": {},
   "outputs": [
    {
     "name": "stdout",
     "output_type": "stream",
     "text": [
      "Added assistant:  asst_3XW40clwXffKhhdYDHhut1ER 1\n"
     ]
    }
   ],
   "source": [
    "helper.clear_shelves()\n",
    "\n",
    "travel_bot_assistant = helper.create_assistant(client,\n",
    "        name=\"Travel Assistant\",\n",
    "        instructions=\"You are a helpful, friendly, and professional assistant that can help with travel plans, calculate expenses, and answer questions based on the provided knowledge.\",        \n",
    "        tools=tools_list,\n",
    "        model=helper.gpt_deployment_name,\n",
    "        file_ids=[file_itinerary.id,file_bills.id],)"
   ]
  },
  {
   "cell_type": "markdown",
   "metadata": {},
   "source": [
    "### Define the delegate to handle function calling"
   ]
  },
  {
   "cell_type": "code",
   "execution_count": 6,
   "metadata": {},
   "outputs": [],
   "source": [
    "def function_calling_delegate(client, thread, run):\n",
    "    print(\"Function Calling\")\n",
    "    required_actions = run.required_action.submit_tool_outputs.model_dump()\n",
    "    print(required_actions)\n",
    "    tool_outputs = []\n",
    "    import json\n",
    "    for action in required_actions[\"tool_calls\"]:\n",
    "        func_name = action['function']['name']\n",
    "        arguments = json.loads(action['function']['arguments'])\n",
    "        \n",
    "        if func_name == \"block_calendar\":\n",
    "            print(\"blocking calendar...\")\n",
    "            subject = arguments['eventSubject']\n",
    "            content = arguments['eventContent']\n",
    "            start = arguments['startTime']\n",
    "            end = arguments['endTime']\n",
    "            is_all_day = arguments['isAllDay']\n",
    "            helper.send_event(subject,content,start,end,is_all_day)\n",
    "            tool_outputs.append({\n",
    "                \"tool_call_id\": action['id'],\n",
    "                \"output\": \"Calendar blocked\"\n",
    "            })\n",
    "        else:\n",
    "            raise ValueError(f\"Unknown function: {func_name}\")\n",
    "        \n",
    "    print(\"Submitting outputs back to the Assistant...\")\n",
    "    client.beta.threads.runs.submit_tool_outputs(\n",
    "        thread_id=thread.id,\n",
    "        run_id=run.id,\n",
    "        tool_outputs=tool_outputs\n",
    "    )"
   ]
  },
  {
   "cell_type": "markdown",
   "metadata": {},
   "source": [
    "### Process user messages"
   ]
  },
  {
   "cell_type": "code",
   "execution_count": 7,
   "metadata": {},
   "outputs": [
    {
     "name": "stdout",
     "output_type": "stream",
     "text": [
      "Creating new thread for Alex with user_id 123\n",
      "Added thread:  thread_3ZcIVFMHptFOd68MUCQ1ByiV 1\n",
      "Generated message: Based on your provided flight itinerary, you will be in Frankfurt from September 29, 2024, until October 3, 2024. Here's a suggested day-by-day itinerary that will allow you to explore the city and enjoy day trips around the area:\n",
      "\n",
      "**September 29, 2024 (Day 1 - Arrival in Frankfurt)**:\n",
      "- Morning: Arrive at Frankfurt Airport at 6:00 AM.\n",
      "- Transfer to your hotel and check-in. Take some time to rest and freshen up.\n",
      "- Afternoon: Take a leisurely walk around the Römerberg, Frankfurt's old central square. Visit the Römer building and the Old St Nicholas Church.\n",
      "- Evening: Enjoy dinner at one of the traditional restaurants in the Sachsenhausen district.\n",
      "\n",
      "**September 30, 2024 (Day 2 - Exploring Frankfurt)**:\n",
      "- Morning: Visit the Städel Museum to see an impressive collection of European art.\n",
      "- Afternoon: Have lunch at Kleinmarkthalle, a local market with a variety of fresh food and regional specialties.\n",
      "- Later Afternoon: Take a walk along the Main River and cross the Eiserner Steg bridge for a lovely view of the city skyline.\n",
      "- Evening: Explore the bars and nightlife in the Alt-Sachsenhausen area.\n",
      "\n",
      "**October 1, 2024 (Day 3 - Day Trip to Rhine Valley)**:\n",
      "- Take a day trip to Rhine Valley, which is famous for its beautiful scenery and castles. Consider booking a river cruise or visiting towns like Rüdesheim or Boppard.\n",
      "- Evening: Return to Frankfurt and enjoy a quiet dinner after your day of exploration.\n",
      "\n",
      "**October 2, 2024 (Day 4 - Day Trip to Heidelberg)**:\n",
      "- Have a day trip to Heidelberg, known for its romantic cityscape and the historic Heidelberg Castle.\n",
      "- Explore the Old Town and the Philosopher's Walk for panoramic views of the city.\n",
      "- Evening: Head back to Frankfurt and if you're up for it, catch a show at the Old Opera House (Alte Oper Frankfurt).\n",
      "\n",
      "**October 3, 2024 (Day 5 - Departure)**:\n",
      "- Morning: Depending on your flight time, take a final stroll in the city or visit the Palmengarten, a botanical garden that is perfect for a relaxing walk.\n",
      "- Afternoon: Departure to Miami International Airport at 6:00 PM.\n",
      "\n",
      "As you like to walk around cities and enjoy day trips, this itinerary incorporates a good mix of local exploration and short excursions to nearby attractions, giving you an immersive experience in and around Frankfurt. Make sure to check the opening times and book tickets in advance for places you wish to visit, to make the most out of your trip. Enjoy your travels!\n",
      "To Alex: Based on your provided flight itinerary, you will be in Frankfurt from September 29, 2024, until October 3, 2024. Here's a suggested day-by-day itinerary that will allow you to explore the city and enjoy day trips around the area:\n",
      "\n",
      "**September 29, 2024 (Day 1 - Arrival in Frankfurt)**:\n",
      "- Morning: Arrive at Frankfurt Airport at 6:00 AM.\n",
      "- Transfer to your hotel and check-in. Take some time to rest and freshen up.\n",
      "- Afternoon: Take a leisurely walk around the Römerberg, Frankfurt's old central square. Visit the Römer building and the Old St Nicholas Church.\n",
      "- Evening: Enjoy dinner at one of the traditional restaurants in the Sachsenhausen district.\n",
      "\n",
      "**September 30, 2024 (Day 2 - Exploring Frankfurt)**:\n",
      "- Morning: Visit the Städel Museum to see an impressive collection of European art.\n",
      "- Afternoon: Have lunch at Kleinmarkthalle, a local market with a variety of fresh food and regional specialties.\n",
      "- Later Afternoon: Take a walk along the Main River and cross the Eiserner Steg bridge for a lovely view of the city skyline.\n",
      "- Evening: Explore the bars and nightlife in the Alt-Sachsenhausen area.\n",
      "\n",
      "**October 1, 2024 (Day 3 - Day Trip to Rhine Valley)**:\n",
      "- Take a day trip to Rhine Valley, which is famous for its beautiful scenery and castles. Consider booking a river cruise or visiting towns like Rüdesheim or Boppard.\n",
      "- Evening: Return to Frankfurt and enjoy a quiet dinner after your day of exploration.\n",
      "\n",
      "**October 2, 2024 (Day 4 - Day Trip to Heidelberg)**:\n",
      "- Have a day trip to Heidelberg, known for its romantic cityscape and the historic Heidelberg Castle.\n",
      "- Explore the Old Town and the Philosopher's Walk for panoramic views of the city.\n",
      "- Evening: Head back to Frankfurt and if you're up for it, catch a show at the Old Opera House (Alte Oper Frankfurt).\n",
      "\n",
      "**October 3, 2024 (Day 5 - Departure)**:\n",
      "- Morning: Depending on your flight time, take a final stroll in the city or visit the Palmengarten, a botanical garden that is perfect for a relaxing walk.\n",
      "- Afternoon: Departure to Miami International Airport at 6:00 PM.\n",
      "\n",
      "As you like to walk around cities and enjoy day trips, this itinerary incorporates a good mix of local exploration and short excursions to nearby attractions, giving you an immersive experience in and around Frankfurt. Make sure to check the opening times and book tickets in advance for places you wish to visit, to make the most out of your trip. Enjoy your travels!\n",
      "Retrieving existing thread for Alex with user_id 123\n",
      "Generated message: Your share of the Airbnb lodging costs would be $1,250.00, and your share of the flight costs would be $1,000.00. Therefore, your total share of the costs for both the Airbnb stay and your flight would be $2,250.00.\n",
      "To Alex: Your share of the Airbnb lodging costs would be $1,250.00, and your share of the flight costs would be $1,000.00. Therefore, your total share of the costs for both the Airbnb stay and your flight would be $2,250.00.\n",
      "Retrieving existing thread for Alex with user_id 123\n",
      "Function Calling\n",
      "{'tool_calls': [{'id': 'call_785SXPbYWyf8lUoAMO5qAYWV', 'function': {'arguments': '{\\n  \"eventSubject\": \"Reserved Time\",\\n  \"eventContent\": \"Reserved slot for personal time.\",\\n  \"startTime\": \"2024-01-17T17:00:00\",\\n  \"endTime\": \"2024-01-17T17:30:00\",\\n  \"isAllDay\": false\\n}', 'name': 'block_calendar'}, 'type': 'function'}]}\n",
      "blocking calendar...\n",
      "Subject: Reserved Time \n",
      "Content: Reserved slot for personal time. \n",
      "Start: 01/17/24 17:00:00 \n",
      "End: 01/17/24 17:30:00 \n",
      "All day: False\n",
      "Event processed\n",
      "Submitting outputs back to the Assistant...\n",
      "Generated message: Your calendar has been blocked for tomorrow from 5:00 PM to 5:30 PM.\n",
      "To Alex: Your calendar has been blocked for tomorrow from 5:00 PM to 5:30 PM.\n",
      "Deleting:  1  assistants.\n",
      "AssistantDeleted(id='asst_3XW40clwXffKhhdYDHhut1ER', deleted=True, object='assistant.deleted')\n",
      "Deleting:  1  threads.\n",
      "ThreadDeleted(id='thread_3ZcIVFMHptFOd68MUCQ1ByiV', deleted=True, object='thread.deleted')\n",
      "Deleting:  2  files.\n",
      "FileDeleted(id='assistant-Ul4pGaRffB4FuyrV6d7xolrs', deleted=True, object='file')\n",
      "FileDeleted(id='assistant-DZqLaXltOgKsYpCedixnfbIO', deleted=True, object='file')\n"
     ]
    }
   ],
   "source": [
    "try:\n",
    "    helper.generate_response(client,travel_bot_assistant,\"Suggest a day-by-day itinerary for the dates of my travel? I like walk around the city I'm visiting and go on day trips?\", \"123\", \"Alex\",function_calling_delegate)\n",
    "    helper.generate_response(client,travel_bot_assistant,\"Will be 4 friends staying at this Airbnb in Berlin. What's my share of costs+my flight?\", \"123\", \"Alex\",function_calling_delegate)\n",
    "    helper.generate_response(client,travel_bot_assistant,\"Block my calendar tomorrow from 5-5:30pm\", \"123\", \"Alex\",function_calling_delegate)\n",
    "finally:\n",
    "    helper.cleanup(client)"
   ]
  }
 ],
 "metadata": {
  "kernelspec": {
   "display_name": "v31012",
   "language": "python",
   "name": "python3"
  },
  "language_info": {
   "codemirror_mode": {
    "name": "ipython",
    "version": 3
   },
   "file_extension": ".py",
   "mimetype": "text/x-python",
   "name": "python",
   "nbconvert_exporter": "python",
   "pygments_lexer": "ipython3",
   "version": "3.10.12"
  }
 },
 "nbformat": 4,
 "nbformat_minor": 2
}
