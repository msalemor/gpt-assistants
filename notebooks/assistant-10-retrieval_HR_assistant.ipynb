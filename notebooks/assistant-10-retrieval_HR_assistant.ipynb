{
 "cells": [
  {
   "cell_type": "markdown",
   "metadata": {},
   "source": [
    "# Assistant-10<br/>Knowledge Retrieval\n",
    "\n",
    "### Get an OpenAI client\n",
    "\n",
    "**Note:** When configuring the OpenAI client, the API version, the model version, and endpoint are \"new\"."
   ]
  },
  {
   "cell_type": "code",
   "execution_count": 5,
   "metadata": {},
   "outputs": [],
   "source": [
    "import oaihelper as helper\n",
    "\n",
    "## Get an OpenAI client\n",
    "client = helper.get_openai_client(api_key=helper.api_KEY,\n",
    "        api_version=helper.api_version,\n",
    "        azure_endpoint=helper.api_URI,)"
   ]
  },
  {
   "cell_type": "markdown",
   "metadata": {},
   "source": [
    "### Load the files"
   ]
  },
  {
   "cell_type": "code",
   "execution_count": 6,
   "metadata": {},
   "outputs": [
    {
     "name": "stdout",
     "output_type": "stream",
     "text": [
      "Added file:  assistant-qgRqLR622U1TP2WZsRFvDPxg 4\n",
      "Added file:  assistant-oXCxCoXEbn0ja8FjLnXaD9R1 5\n",
      "Added file:  assistant-n5HmS8oknuGEDtb1q2b3JK2B 6\n"
     ]
    }
   ],
   "source": [
    "## Files\n",
    "file_benefits = helper.upload_file(client,\"../data/HR/contoso-benefits.txt\")\n",
    "file_401k = helper.upload_file(client,\"../data/HR/contoso-401k.txt\")\n",
    "file_leave = helper.upload_file(client,\"../data/HR/contoso-medical_leave.txt\")"
   ]
  },
  {
   "cell_type": "markdown",
   "metadata": {},
   "source": [
    "### Define the tools to use in the Assistants"
   ]
  },
  {
   "cell_type": "code",
   "execution_count": 7,
   "metadata": {},
   "outputs": [],
   "source": [
    "tools_list = [        \n",
    "        {\n",
    "            \"type\": \"function\",\n",
    "            \"function\": {\n",
    "                \"name\": \"send_email\",\n",
    "                \"description\": \"Sends an email to a recipient(s).\",\n",
    "                \"parameters\": {\n",
    "                    \"type\": \"object\",\n",
    "                    \"properties\": {\n",
    "                        \"to\": {\n",
    "                            \"type\": \"string\",\n",
    "                            \"description\": \"The email(s) the email should be sent to.\"\n",
    "                        },\n",
    "                        \"content\": {\n",
    "                            \"type\": \"string\",\n",
    "                            \"description\": \"The content of the email.\"\n",
    "                        }\n",
    "                    },\n",
    "                    \"required\": [\"to\", \"content\"]\n",
    "                }\n",
    "            }\n",
    "        },\n",
    "        {\"type\",\"retrieval\"}\n",
    "    ]"
   ]
  },
  {
   "cell_type": "markdown",
   "metadata": {},
   "source": [
    "### Define the HR Assistant"
   ]
  },
  {
   "cell_type": "code",
   "execution_count": 8,
   "metadata": {},
   "outputs": [
    {
     "name": "stdout",
     "output_type": "stream",
     "text": [
      "Added assistant:  asst_ueQ8Dm9CKiMz50BMQNBR875g 2\n"
     ]
    }
   ],
   "source": [
    "helper.clear_shelves()\n",
    "\n",
    "hr_assistant = helper.create_assistant(client,\n",
    "        name=\"HR Assistant\",\n",
    "        instructions=\"You HR support chatbot. Use your knowledge base to best respond to the employee queries. Be friendly, professional, and helpful. If you don't know the answer, please say, 'contact HR for more information.'\",\n",
    "        tools=[{\"type\": \"retrieval\"}],\n",
    "        model=helper.gpt_deployment_name,\n",
    "        file_ids=[file_benefits.id, file_401k.id, file_leave.id],)"
   ]
  },
  {
   "cell_type": "markdown",
   "metadata": {},
   "source": [
    "### Define the delegate to handle function calling"
   ]
  },
  {
   "cell_type": "code",
   "execution_count": 9,
   "metadata": {},
   "outputs": [],
   "source": [
    "def function_calling_delegate(client, run, thread):\n",
    "    print(\"Function Calling\")\n",
    "    required_actions = run.required_action.submit_tool_outputs.model_dump()\n",
    "    print(required_actions)\n",
    "    tool_outputs = []\n",
    "    import json\n",
    "    for action in required_actions[\"tool_calls\"]:\n",
    "        func_name = action['function']['name']\n",
    "        arguments = json.loads(action['function']['arguments'])\n",
    "        \n",
    "        if func_name == \"send_email\":\n",
    "            print(\"Sending email...\")\n",
    "            email_to = arguments['to']\n",
    "            email_content = arguments['content']\n",
    "            helper.send_email(email_to,email_content)\n",
    "            \n",
    "            tool_outputs.append({\n",
    "                \"tool_call_id\": action['id'],\n",
    "                \"output\": \"Email sent\"\n",
    "            })\n",
    "        else:\n",
    "            raise ValueError(f\"Unknown function: {func_name}\")\n",
    "        \n",
    "    print(\"Submitting outputs back to the Assistant...\")\n",
    "    client.beta.threads.runs.submit_tool_outputs(\n",
    "        thread_id=thread.id,\n",
    "        run_id=run.id,\n",
    "        tool_outputs=tool_outputs\n",
    "    )"
   ]
  },
  {
   "cell_type": "markdown",
   "metadata": {},
   "source": [
    "### Process user messages"
   ]
  },
  {
   "cell_type": "code",
   "execution_count": 10,
   "metadata": {},
   "outputs": [
    {
     "name": "stdout",
     "output_type": "stream",
     "text": [
      "Creating new thread for Alex with user_id 123\n",
      "Added thread:  thread_DwXVkwWcHCMI6tXA0YuHVERL 1\n",
      "Generated message: Here are some of the company benefits available to you:\n",
      "\n",
      "- **Health Insurance**: The company covers 100% of the premiums for medical, dental, and vision plans for employees and their dependents, including flexible spending accounts, health savings accounts, and wellness programs.\n",
      "- **Retirement Savings**: Employees receive a 50% match on their 401(k) contributions, up to 6% of their salary. There are also financial education and planning services available.\n",
      "- **Paid Time Off**: There are generous policies for vacation, sick leave, holidays, parental leave, and sabbatical leave.\n",
      "- **Professional Development**: Opportunities for learning new skills, advancing careers, and pursuing passions are provided, including tuition reimbursement, online courses, mentoring programs, and internal mobility.\n",
      "- **Work-Life Balance**: The company supports flexible work arrangements, remote work options, and employee assistance programs. A culture of recognition and appreciation celebrates employees' achievements and contributions【13†source】.\n",
      "\n",
      "For requesting medical leave, here is a summary of the process:\n",
      "- **Notify HR and Supervisor**: Inform your supervisor and HR as soon as possible about your need for leave and the expected duration.\n",
      "- **Documentation**: Provide appropriate documentation to support your request, such as a doctor's note.\n",
      "- **Submit Required Forms**: Complete and submit the required forms to HR before the start of your leave.\n",
      "- **Communication**: Maintain contact with your supervisor and HR during your leave and notify them of any changes in your situation or return date.\n",
      "- **Return to Work**: Resume your duties on the agreed return date.\n",
      "\n",
      "You are entitled to benefits and protections such as:\n",
      "- **Health Insurance**: Continuation of coverage during leave.\n",
      "- **Position Restoration**: Restoration of your original or equivalent position upon return (unless the position was eliminated for business reasons or you are unable to perform duties).\n",
      "- **Protection**: From discrimination, harassment, retaliation, or interference for taking leave.\n",
      "\n",
      "You are expected to comply with:\n",
      "- **Leave Purpose**: Use the leave for the intended reason and avoid any inconsistent activities.\n",
      "- **Company Policies**: Follow the policies regarding attendance, performance, conduct, and communication.\n",
      "- **Cooperation**: Provide information or verification requested by the company regarding leave status or eligibility.\n",
      "- **Company Property**: Return any company property before or during the leave【19†source】.\n",
      "To Alex: Here are some of the company benefits available to you:\n",
      "\n",
      "- **Health Insurance**: The company covers 100% of the premiums for medical, dental, and vision plans for employees and their dependents, including flexible spending accounts, health savings accounts, and wellness programs.\n",
      "- **Retirement Savings**: Employees receive a 50% match on their 401(k) contributions, up to 6% of their salary. There are also financial education and planning services available.\n",
      "- **Paid Time Off**: There are generous policies for vacation, sick leave, holidays, parental leave, and sabbatical leave.\n",
      "- **Professional Development**: Opportunities for learning new skills, advancing careers, and pursuing passions are provided, including tuition reimbursement, online courses, mentoring programs, and internal mobility.\n",
      "- **Work-Life Balance**: The company supports flexible work arrangements, remote work options, and employee assistance programs. A culture of recognition and appreciation celebrates employees' achievements and contributions【13†source】.\n",
      "\n",
      "For requesting medical leave, here is a summary of the process:\n",
      "- **Notify HR and Supervisor**: Inform your supervisor and HR as soon as possible about your need for leave and the expected duration.\n",
      "- **Documentation**: Provide appropriate documentation to support your request, such as a doctor's note.\n",
      "- **Submit Required Forms**: Complete and submit the required forms to HR before the start of your leave.\n",
      "- **Communication**: Maintain contact with your supervisor and HR during your leave and notify them of any changes in your situation or return date.\n",
      "- **Return to Work**: Resume your duties on the agreed return date.\n",
      "\n",
      "You are entitled to benefits and protections such as:\n",
      "- **Health Insurance**: Continuation of coverage during leave.\n",
      "- **Position Restoration**: Restoration of your original or equivalent position upon return (unless the position was eliminated for business reasons or you are unable to perform duties).\n",
      "- **Protection**: From discrimination, harassment, retaliation, or interference for taking leave.\n",
      "\n",
      "You are expected to comply with:\n",
      "- **Leave Purpose**: Use the leave for the intended reason and avoid any inconsistent activities.\n",
      "- **Company Policies**: Follow the policies regarding attendance, performance, conduct, and communication.\n",
      "- **Cooperation**: Provide information or verification requested by the company regarding leave status or eligibility.\n",
      "- **Company Property**: Return any company property before or during the leave【19†source】.\n",
      "Retrieving existing thread for Alex with user_id 123\n",
      "Generated message: The complete list of company benefits provided by Contoso includes:\n",
      "\n",
      "1. **Health Insurance**: Contoso covers 100% of the premiums for medical, dental, and vision plans for employees and their dependents. The company also offers flexible spending accounts, health savings accounts, and wellness programs.\n",
      "2. **Retirement Savings**: The company matches 50% of the employees' contributions to their 401(k) plans, up to 6% of their salary. Additionally, financial education and planning services are available to help employees achieve their retirement goals.\n",
      "3. **Paid Time Off**: Employees are offered generous paid time off policies, including vacation, sick leave, holidays, parental leave, and sabbatical leave. Employees are encouraged to take time off to recharge and spend quality time with their families and friends.\n",
      "4. **Professional Development**: Contoso invests in employees' growth and development by providing opportunities to learn new skills, advance careers, and pursue passions. Benefits include tuition reimbursement, online courses, mentoring programs, and internal mobility.\n",
      "5. **Work-Life Balance**: To respect employees' work-life balance, the company supports them with flexible work arrangements, remote work options, and employee assistance programs. The company culture fosters recognition and appreciation, celebrating employees' achievements and contributions.\n",
      "To Alex: The complete list of company benefits provided by Contoso includes:\n",
      "\n",
      "1. **Health Insurance**: Contoso covers 100% of the premiums for medical, dental, and vision plans for employees and their dependents. The company also offers flexible spending accounts, health savings accounts, and wellness programs.\n",
      "2. **Retirement Savings**: The company matches 50% of the employees' contributions to their 401(k) plans, up to 6% of their salary. Additionally, financial education and planning services are available to help employees achieve their retirement goals.\n",
      "3. **Paid Time Off**: Employees are offered generous paid time off policies, including vacation, sick leave, holidays, parental leave, and sabbatical leave. Employees are encouraged to take time off to recharge and spend quality time with their families and friends.\n",
      "4. **Professional Development**: Contoso invests in employees' growth and development by providing opportunities to learn new skills, advance careers, and pursue passions. Benefits include tuition reimbursement, online courses, mentoring programs, and internal mobility.\n",
      "5. **Work-Life Balance**: To respect employees' work-life balance, the company supports them with flexible work arrangements, remote work options, and employee assistance programs. The company culture fosters recognition and appreciation, celebrating employees' achievements and contributions.\n",
      "Retrieving existing thread for Alex with user_id 123\n",
      "Generated message: The company matches 50% of the employees' contributions to their 401(k) plans, up to 6% of their salary【13†source】.\n",
      "To Alex: The company matches 50% of the employees' contributions to their 401(k) plans, up to 6% of their salary【13†source】.\n",
      "Deleting:  2  assistants.\n",
      "AssistantDeleted(id='asst_cuf8bh1GGmJ18AS0OyURnmGf', deleted=True, object='assistant.deleted')\n",
      "AssistantDeleted(id='asst_ueQ8Dm9CKiMz50BMQNBR875g', deleted=True, object='assistant.deleted')\n",
      "Deleting:  1  threads.\n",
      "ThreadDeleted(id='thread_DwXVkwWcHCMI6tXA0YuHVERL', deleted=True, object='thread.deleted')\n",
      "Deleting:  6  files.\n",
      "FileDeleted(id='assistant-Xaa5Yp0O8qJaQoX4sNcpEeUp', deleted=True, object='file')\n",
      "FileDeleted(id='assistant-YQN6v5HPJHfovnzlUlisbJKY', deleted=True, object='file')\n",
      "FileDeleted(id='assistant-nOmvtgFeIRddfuZodOMazSAY', deleted=True, object='file')\n",
      "FileDeleted(id='assistant-qgRqLR622U1TP2WZsRFvDPxg', deleted=True, object='file')\n",
      "FileDeleted(id='assistant-oXCxCoXEbn0ja8FjLnXaD9R1', deleted=True, object='file')\n",
      "FileDeleted(id='assistant-n5HmS8oknuGEDtb1q2b3JK2B', deleted=True, object='file')\n"
     ]
    }
   ],
   "source": [
    "try:\n",
    "    helper.generate_response(client,hr_assistant,\"Can you list some company benefits? Can you provide a summary for requesting medical leave?\", \"123\", \"Alex\", function_calling_delegate)\n",
    "    helper.generate_response(client,hr_assistant,\"Can you provide me a complete list of company benefits benefits?\", \"123\", \"Alex\", function_calling_delegate)\n",
    "    helper.generate_response(client,hr_assistant,\"What is the 401k matching percentage?\", \"123\", \"Alex\", function_calling_delegate)\n",
    "finally:\n",
    "    helper.cleanup(client)"
   ]
  }
 ],
 "metadata": {
  "kernelspec": {
   "display_name": "v31012",
   "language": "python",
   "name": "python3"
  },
  "language_info": {
   "codemirror_mode": {
    "name": "ipython",
    "version": 3
   },
   "file_extension": ".py",
   "mimetype": "text/x-python",
   "name": "python",
   "nbconvert_exporter": "python",
   "pygments_lexer": "ipython3",
   "version": "3.10.12"
  }
 },
 "nbformat": 4,
 "nbformat_minor": 2
}
