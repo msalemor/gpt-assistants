{
 "cells": [
  {
   "cell_type": "markdown",
   "metadata": {},
   "source": [
    "# Assistant-06<br/>Code Interpreter & Function calling\n",
    "\n",
    "## Trading Assistant that can calculate portfolio values and email a report\n",
    "\n",
    "## Credits\n",
    "\n",
    "- https://mer.vin/2023/11/openai-assistants-api-function-calling/\n",
    "\n",
    "## Email functionality\n",
    "\n",
    "- Implemented using Logic Apps with an Http POST trigger\n",
    "\n",
    "### Get an OpenAI client and an Assistant\n",
    "\n",
    "**Note:** When configuring the OpenAI client, the API version, the model version, and endpoint are \"new\"."
   ]
  },
  {
   "cell_type": "code",
   "execution_count": 1,
   "metadata": {},
   "outputs": [],
   "source": [
    "import time\n",
    "import oaihelper as helper\n",
    "import yfinance as yf\n",
    "\n",
    "\n",
    "## Get an OpenAI client\n",
    "client = helper.get_openai_client(api_key=helper.api_KEY,\n",
    "        api_version=helper.api_version,\n",
    "        azure_endpoint=helper.api_URI,)"
   ]
  },
  {
   "cell_type": "markdown",
   "metadata": {},
   "source": [
    "### Get the latest stock price by ticker symbol using Yahoo Finance"
   ]
  },
  {
   "cell_type": "code",
   "execution_count": 2,
   "metadata": {},
   "outputs": [],
   "source": [
    "def get_stock_price(symbol: str) -> float:\n",
    "    try:\n",
    "        stock = yf.Ticker(symbol)\n",
    "        price = stock.history(period=\"1d\")['Close'].iloc[-1]    \n",
    "        return price\n",
    "    except:\n",
    "        return 0"
   ]
  },
  {
   "cell_type": "markdown",
   "metadata": {},
   "source": [
    "### Prepare the tools for function calling"
   ]
  },
  {
   "cell_type": "code",
   "execution_count": 3,
   "metadata": {},
   "outputs": [],
   "source": [
    "tools_list = [\n",
    "{\"type\": \"code_interpreter\"},\n",
    "{\"type\": \"function\",\n",
    "    \"function\": {\n",
    "\n",
    "        \"name\": \"get_stock_price\",\n",
    "        \"description\": \"Retrieve the latest closing price of a stock using its ticker symbol.\",\n",
    "        \"parameters\": {\n",
    "            \"type\": \"object\",\n",
    "            \"properties\": {\n",
    "                \"symbol\": {\n",
    "                    \"type\": \"string\",\n",
    "                    \"description\": \"The ticker symbol of the stock\"\n",
    "                }\n",
    "            },\n",
    "            \"required\": [\"symbol\"]\n",
    "        }\n",
    "    }\n",
    "},\n",
    "{\n",
    "    \"type\": \"function\",\n",
    "    \"function\": {\n",
    "        \"name\": \"send_email\",\n",
    "        \"description\": \"Sends an email to a recipient(s).\",\n",
    "        \"parameters\": {\n",
    "            \"type\": \"object\",\n",
    "            \"properties\": {\n",
    "                \"to\": {\n",
    "                    \"type\": \"string\",\n",
    "                    \"description\": \"The email(s) the email should be sent to.\"\n",
    "                },\n",
    "                \"content\": {\n",
    "                    \"type\": \"string\",\n",
    "                    \"description\": \"The content of the email.\"\n",
    "                }\n",
    "            },\n",
    "            \"required\": [\"to\", \"content\"]\n",
    "        }\n",
    "    }\n",
    "}]"
   ]
  },
  {
   "cell_type": "code",
   "execution_count": 4,
   "metadata": {},
   "outputs": [
    {
     "name": "stdout",
     "output_type": "stream",
     "text": [
      "Added file:  assistant-PG6QBBpXAVnE2wTsaiycOnvd 1\n"
     ]
    }
   ],
   "source": [
    "csv_file = helper.upload_file(client,\"../data/finance/fta-portfolio.csv\")"
   ]
  },
  {
   "cell_type": "markdown",
   "metadata": {},
   "source": [
    "### Create the assistant"
   ]
  },
  {
   "cell_type": "code",
   "execution_count": 5,
   "metadata": {},
   "outputs": [
    {
     "name": "stdout",
     "output_type": "stream",
     "text": [
      "Added assistant:  asst_9XFFufWoLki4SooA1OLVU9GD 1\n"
     ]
    }
   ],
   "source": [
    "helper.clear_shelves()\n",
    "\n",
    "## Create an assistant\n",
    "stock_assistant = helper.create_assistant(client,\n",
    "                                                  name=\"fta-Securities Trading Assistant\",\n",
    "                                                  instructions=\"You are a personal securities trading assistant. Please be polite, professional, helpful, and friendly.\", \n",
    "                                                  tools=tools_list,                                                  \n",
    "                                                  model=helper.gpt_deployment_name,\n",
    "                                                  file_ids=[csv_file.id]\n",
    "                                                  )"
   ]
  },
  {
   "cell_type": "markdown",
   "metadata": {},
   "source": [
    "### Define the function calling delegate"
   ]
  },
  {
   "cell_type": "code",
   "execution_count": 6,
   "metadata": {},
   "outputs": [],
   "source": [
    "def function_calling_delegate(client, thread, run):\n",
    "    print(\"Function Calling\")\n",
    "    required_actions = run.required_action.submit_tool_outputs.model_dump()\n",
    "    print(required_actions)\n",
    "    tool_outputs = []\n",
    "    import json\n",
    "    for action in required_actions[\"tool_calls\"]:\n",
    "        func_name = action['function']['name']\n",
    "        arguments = json.loads(action['function']['arguments'])\n",
    "        \n",
    "        if func_name == \"get_stock_price\":\n",
    "            output = get_stock_price(symbol=arguments['symbol'])\n",
    "            tool_outputs.append({\n",
    "                \"tool_call_id\": action['id'],\n",
    "                \"output\": output\n",
    "            })\n",
    "        elif func_name == \"send_email\":\n",
    "            print(\"Sending email...\")\n",
    "            email_to = arguments['to']\n",
    "            email_content = arguments['content']\n",
    "            helper.send_email(email_to,email_content)\n",
    "            \n",
    "            tool_outputs.append({\n",
    "                \"tool_call_id\": action['id'],\n",
    "                \"output\": \"Email sent\"\n",
    "            })\n",
    "        else:\n",
    "            raise ValueError(f\"Unknown function: {func_name}\")\n",
    "        \n",
    "    print(\"Submitting outputs back to the Assistant...\")\n",
    "    client.beta.threads.runs.submit_tool_outputs(\n",
    "        thread_id=thread.id,\n",
    "        run_id=run.id,\n",
    "        tool_outputs=tool_outputs\n",
    "    )"
   ]
  },
  {
   "cell_type": "markdown",
   "metadata": {},
   "source": [
    "### Process the message, function calling leveraging the latest stock prices, print the results and dispose of the objects"
   ]
  },
  {
   "cell_type": "code",
   "execution_count": 7,
   "metadata": {},
   "outputs": [
    {
     "name": "stdout",
     "output_type": "stream",
     "text": [
      "Creating new thread for Alex with user_id 123\n",
      "Added thread:  thread_TypTapr7ZuM5RzRrsnmvPhD2 1\n",
      "Function Calling\n",
      "{'tool_calls': [{'id': 'call_bYSlpRF0Zo9JbXWzMnlGtPfm', 'function': {'arguments': '{\"symbol\": \"AAPL\"}', 'name': 'get_stock_price'}, 'type': 'function'}, {'id': 'call_KXPtUHk3J6OsIRI1OQ9baxPx', 'function': {'arguments': '{\"symbol\": \"MSFT\"}', 'name': 'get_stock_price'}, 'type': 'function'}, {'id': 'call_uUHEBA1QO5MgaYMvBD8VF8UD', 'function': {'arguments': '{\"symbol\": \"GOOGL\"}', 'name': 'get_stock_price'}, 'type': 'function'}, {'id': 'call_rbQtnCobifkEMOiZl1HHFlR2', 'function': {'arguments': '{\"symbol\": \"AMZN\"}', 'name': 'get_stock_price'}, 'type': 'function'}, {'id': 'call_eGPFemW2ryEZvP2LMCR5YFHT', 'function': {'arguments': '{\"symbol\": \"TSLA\"}', 'name': 'get_stock_price'}, 'type': 'function'}, {'id': 'call_0T0Ucotwew9JhUDL58VTc4C5', 'function': {'arguments': '{\"symbol\": \"NFLX\"}', 'name': 'get_stock_price'}, 'type': 'function'}, {'id': 'call_vvcJslXqaUJzwjYkXtPIJDm2', 'function': {'arguments': '{\"symbol\": \"NVDA\"}', 'name': 'get_stock_price'}, 'type': 'function'}]}\n",
      "Submitting outputs back to the Assistant...\n",
      "Function Calling\n",
      "{'tool_calls': [{'id': 'call_BnTq6jtVnVs5Gs16mKpAfukv', 'function': {'arguments': '{\"to\":\"alemor@microsoft.com\",\"content\":\"<html><head><style> table { width: 100%; border-collapse: collapse; }th, td { text-align: left; padding: 8px; }tr:nth-child(even) { background-color: #f2f2f2; }</style></head><body><h1 style=\\\\\"text-align: center;\\\\\">Portfolio Report as of 2024-01-16 20:37:38</h1><h2>Portfolio Details:</h2><table border=\\\\\"1\\\\\"><tr><th>Ticker</th><th>QTY</th><th>Latest_Price</th><th>Current_Value</th><th>Performance</th></tr><tr><td>AAPL</td><td>10</td><td>183.22</td><td>1832.2</td><td>-667.8</td></tr><tr><td>MSFT</td><td>200</td><td>389.48</td><td>77896.0</td><td>57896.0</td></tr><tr><td>GOOGL</td><td>1200</td><td>142.01</td><td>170412.0</td><td>80412.0</td></tr><tr><td>AMZN</td><td>1800</td><td>152.9</td><td>275220.0</td><td>185220.0</td></tr><tr><td>TSLA</td><td>500</td><td>219.45</td><td>109725.0</td><td>-140275.0</td></tr><tr><td>NFLX</td><td>300</td><td>480.0</td><td>144000.0</td><td>120000.0</td></tr><tr><td>NVDA</td><td>250</td><td>561.08</td><td>140270.0</td><td>110270.0</td></tr></table><h2>Best Performing Stock:</h2><table border=\\\\\"1\\\\\"><tr><th>Ticker</th><th>QTY</th><th>Latest_Price</th><th>Current_Value</th><th>Performance</th></tr><tr><td>AMZN</td><td>1800</td><td>152.9</td><td>275220.0</td><td>185220.0</td></tr></table><h2>Worst Performing Stock:</h2><table border=\\\\\"1\\\\\"><tr><th>Ticker</th><th>QTY</th><th>Latest_Price</th><th>Current_Value</th><th>Performance</th></tr><tr><td>TSLA</td><td>500</td><td>219.45</td><td>109725.0</td><td>-140275.0</td></tr></table></body></html>\"}', 'name': 'send_email'}, 'type': 'function'}]}\n",
      "Sending email...\n",
      "Email sent to: alemor@microsoft.com\n",
      "Submitting outputs back to the Assistant...\n",
      "Generated message: The HTML formatted report has been successfully emailed to alemor@microsoft.com. If there's anything more I can assist you with, please let me know!\n",
      "To Alex: The HTML formatted report has been successfully emailed to alemor@microsoft.com. If there's anything more I can assist you with, please let me know!\n"
     ]
    },
    {
     "data": {
      "text/plain": [
       "\"The HTML formatted report has been successfully emailed to alemor@microsoft.com. If there's anything more I can assist you with, please let me know!\""
      ]
     },
     "execution_count": 7,
     "metadata": {},
     "output_type": "execute_result"
    }
   ],
   "source": [
    "helper.generate_response(client,stock_assistant,\"Based on the provided portfolio, please email me an HTML formatted report to alemor@microsoft.com with the details for each stock based on the latest stock prices, and list the best and worst performing stocks in my portfolio.\", \"123\", \"Alex\", function_calling_delegate)"
   ]
  },
  {
   "cell_type": "markdown",
   "metadata": {},
   "source": [
    "### Delete all demo objects"
   ]
  },
  {
   "cell_type": "code",
   "execution_count": 8,
   "metadata": {},
   "outputs": [
    {
     "name": "stdout",
     "output_type": "stream",
     "text": [
      "Deleting:  1  assistants.\n",
      "AssistantDeleted(id='asst_9XFFufWoLki4SooA1OLVU9GD', deleted=True, object='assistant.deleted')\n",
      "Deleting:  1  threads.\n",
      "ThreadDeleted(id='thread_TypTapr7ZuM5RzRrsnmvPhD2', deleted=True, object='thread.deleted')\n",
      "Deleting:  1  files.\n",
      "FileDeleted(id='assistant-PG6QBBpXAVnE2wTsaiycOnvd', deleted=True, object='file')\n"
     ]
    }
   ],
   "source": [
    "helper.cleanup(client)"
   ]
  }
 ],
 "metadata": {
  "kernelspec": {
   "display_name": "v31012",
   "language": "python",
   "name": "python3"
  },
  "language_info": {
   "codemirror_mode": {
    "name": "ipython",
    "version": 3
   },
   "file_extension": ".py",
   "mimetype": "text/x-python",
   "name": "python",
   "nbconvert_exporter": "python",
   "pygments_lexer": "ipython3",
   "version": "3.10.12"
  }
 },
 "nbformat": 4,
 "nbformat_minor": 2
}
